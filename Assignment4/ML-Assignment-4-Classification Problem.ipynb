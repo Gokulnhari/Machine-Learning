{
 "cells": [
  {
   "cell_type": "markdown",
   "id": "0b5404e6-8620-4298-97c4-badc27789e62",
   "metadata": {},
   "source": [
    "**1. Loading and Preprocessing**"
   ]
  },
  {
   "cell_type": "code",
   "execution_count": 9,
   "id": "34014eec-e545-4057-97fd-cad62fe64234",
   "metadata": {},
   "outputs": [],
   "source": [
    "# Import libraries\n",
    "import pandas as pd\n",
    "import numpy as np\n",
    "from sklearn.datasets import load_breast_cancer\n"
   ]
  },
  {
   "cell_type": "code",
   "execution_count": 11,
   "id": "6749bc0f-e205-400a-880b-5d4b56a49048",
   "metadata": {},
   "outputs": [
    {
     "name": "stdout",
     "output_type": "stream",
     "text": [
      "<class 'pandas.core.frame.DataFrame'>\n",
      "RangeIndex: 569 entries, 0 to 568\n",
      "Data columns (total 30 columns):\n",
      " #   Column                   Non-Null Count  Dtype  \n",
      "---  ------                   --------------  -----  \n",
      " 0   mean radius              569 non-null    float64\n",
      " 1   mean texture             569 non-null    float64\n",
      " 2   mean perimeter           569 non-null    float64\n",
      " 3   mean area                569 non-null    float64\n",
      " 4   mean smoothness          569 non-null    float64\n",
      " 5   mean compactness         569 non-null    float64\n",
      " 6   mean concavity           569 non-null    float64\n",
      " 7   mean concave points      569 non-null    float64\n",
      " 8   mean symmetry            569 non-null    float64\n",
      " 9   mean fractal dimension   569 non-null    float64\n",
      " 10  radius error             569 non-null    float64\n",
      " 11  texture error            569 non-null    float64\n",
      " 12  perimeter error          569 non-null    float64\n",
      " 13  area error               569 non-null    float64\n",
      " 14  smoothness error         569 non-null    float64\n",
      " 15  compactness error        569 non-null    float64\n",
      " 16  concavity error          569 non-null    float64\n",
      " 17  concave points error     569 non-null    float64\n",
      " 18  symmetry error           569 non-null    float64\n",
      " 19  fractal dimension error  569 non-null    float64\n",
      " 20  worst radius             569 non-null    float64\n",
      " 21  worst texture            569 non-null    float64\n",
      " 22  worst perimeter          569 non-null    float64\n",
      " 23  worst area               569 non-null    float64\n",
      " 24  worst smoothness         569 non-null    float64\n",
      " 25  worst compactness        569 non-null    float64\n",
      " 26  worst concavity          569 non-null    float64\n",
      " 27  worst concave points     569 non-null    float64\n",
      " 28  worst symmetry           569 non-null    float64\n",
      " 29  worst fractal dimension  569 non-null    float64\n",
      "dtypes: float64(30)\n",
      "memory usage: 133.5 KB\n"
     ]
    }
   ],
   "source": [
    "# Load dataset\n",
    "data = load_breast_cancer()\n",
    "X = pd.DataFrame(data.data, columns=data.feature_names)\n",
    "y = pd.Series(data.target, name='target')\n",
    "X.info()"
   ]
  },
  {
   "cell_type": "code",
   "execution_count": 13,
   "id": "6591bd5b-ddcb-465c-93bc-9fd8eccb84d9",
   "metadata": {},
   "outputs": [
    {
     "name": "stdout",
     "output_type": "stream",
     "text": [
      "Missing values in each column:\n",
      " mean radius                0\n",
      "mean texture               0\n",
      "mean perimeter             0\n",
      "mean area                  0\n",
      "mean smoothness            0\n",
      "mean compactness           0\n",
      "mean concavity             0\n",
      "mean concave points        0\n",
      "mean symmetry              0\n",
      "mean fractal dimension     0\n",
      "radius error               0\n",
      "texture error              0\n",
      "perimeter error            0\n",
      "area error                 0\n",
      "smoothness error           0\n",
      "compactness error          0\n",
      "concavity error            0\n",
      "concave points error       0\n",
      "symmetry error             0\n",
      "fractal dimension error    0\n",
      "worst radius               0\n",
      "worst texture              0\n",
      "worst perimeter            0\n",
      "worst area                 0\n",
      "worst smoothness           0\n",
      "worst compactness          0\n",
      "worst concavity            0\n",
      "worst concave points       0\n",
      "worst symmetry             0\n",
      "worst fractal dimension    0\n",
      "dtype: int64\n"
     ]
    }
   ],
   "source": [
    "# Check for missing values\n",
    "print(\"Missing values in each column:\\n\", X.isnull().sum())\n"
   ]
  },
  {
   "cell_type": "raw",
   "id": "425c505f-762d-4557-90ff-257937b70921",
   "metadata": {},
   "source": [
    "Checked for missing data in the dataset. The breast cancer dataset does not contain missing values, so no imputation is needed."
   ]
  },
  {
   "cell_type": "code",
   "execution_count": 25,
   "id": "f5eeb715-9fd6-46a6-9e60-749dc7418bbe",
   "metadata": {},
   "outputs": [
    {
     "name": "stdout",
     "output_type": "stream",
     "text": [
      "Duplicated rows count:\n",
      " 0\n"
     ]
    }
   ],
   "source": [
    "print(\"Duplicated rows count:\\n\", X.duplicated().sum())"
   ]
  },
  {
   "cell_type": "code",
   "execution_count": 15,
   "id": "12f1525b-0482-4ed6-a6d0-51802eca6af2",
   "metadata": {},
   "outputs": [
    {
     "data": {
      "text/plain": [
       "array([[ 1.09706398, -2.07333501,  1.26993369, ...,  2.29607613,\n",
       "         2.75062224,  1.93701461],\n",
       "       [ 1.82982061, -0.35363241,  1.68595471, ...,  1.0870843 ,\n",
       "        -0.24388967,  0.28118999],\n",
       "       [ 1.57988811,  0.45618695,  1.56650313, ...,  1.95500035,\n",
       "         1.152255  ,  0.20139121],\n",
       "       ...,\n",
       "       [ 0.70228425,  2.0455738 ,  0.67267578, ...,  0.41406869,\n",
       "        -1.10454895, -0.31840916],\n",
       "       [ 1.83834103,  2.33645719,  1.98252415, ...,  2.28998549,\n",
       "         1.91908301,  2.21963528],\n",
       "       [-1.80840125,  1.22179204, -1.81438851, ..., -1.74506282,\n",
       "        -0.04813821, -0.75120669]])"
      ]
     },
     "execution_count": 15,
     "metadata": {},
     "output_type": "execute_result"
    }
   ],
   "source": [
    "# Feature scaling\n",
    "from sklearn.preprocessing import StandardScaler\n",
    "scaler = StandardScaler()\n",
    "X_scaled = scaler.fit_transform(X)\n",
    "X_scaled"
   ]
  },
  {
   "cell_type": "raw",
   "id": "926f934f-0775-4800-9a94-2c1602af535c",
   "metadata": {},
   "source": [
    "Performed standardization to ensure that features like mean radius and mean texture are on a similar scale"
   ]
  },
  {
   "cell_type": "code",
   "execution_count": 17,
   "id": "843a829b-bcaf-44ac-ad61-59a75f507c79",
   "metadata": {},
   "outputs": [
    {
     "name": "stdout",
     "output_type": "stream",
     "text": [
      "Train set size: (455, 30)\n",
      "Test set size: (114, 30)\n"
     ]
    }
   ],
   "source": [
    "# Train-test split\n",
    "from sklearn.model_selection import train_test_split\n",
    "X_train, X_test, y_train, y_test = train_test_split(X_scaled, y, test_size=0.2, random_state=42, stratify=y)\n",
    "\n",
    "print(\"Train set size:\", X_train.shape)\n",
    "print(\"Test set size:\", X_test.shape)"
   ]
  },
  {
   "cell_type": "raw",
   "id": "b43ceefa-cd32-4f50-9ae3-514e1581afcb",
   "metadata": {},
   "source": [
    "Used an 80-20 split to evaluate model performance on unseen data."
   ]
  },
  {
   "cell_type": "markdown",
   "id": "570ec0be-6513-4d5d-a360-ea281aa02422",
   "metadata": {},
   "source": [
    "**2.Classification Algorithm Implementation**"
   ]
  },
  {
   "cell_type": "markdown",
   "id": "8c43776b-4933-4bab-9fd4-2f8b074f8e9f",
   "metadata": {},
   "source": [
    "*Logistic Regression*"
   ]
  },
  {
   "cell_type": "code",
   "execution_count": 63,
   "id": "be433436-5e69-4594-9520-3b0f86d8dee6",
   "metadata": {},
   "outputs": [
    {
     "name": "stdout",
     "output_type": "stream",
     "text": [
      "Logistic Regression Accuracy: 0.9824561403508771\n"
     ]
    }
   ],
   "source": [
    "from sklearn.linear_model import LogisticRegression\n",
    "from sklearn.metrics import classification_report, accuracy_score\n",
    "\n",
    "# Logistic Regression\n",
    "lr_model = LogisticRegression()\n",
    "lr_model.fit(X_train, y_train)\n",
    "y_pred_lr = lr_model.predict(X_test)\n",
    "\n",
    "print(\"Logistic Regression Accuracy:\", accuracy_score(y_test, y_pred_lr))\n",
    "\n"
   ]
  },
  {
   "cell_type": "code",
   "execution_count": 65,
   "id": "0f113c82-edb1-43ba-b8cd-359841a978b9",
   "metadata": {},
   "outputs": [
    {
     "name": "stdout",
     "output_type": "stream",
     "text": [
      "\n",
      "               precision    recall  f1-score   support\n",
      "\n",
      "           0       0.98      0.98      0.98        42\n",
      "           1       0.99      0.99      0.99        72\n",
      "\n",
      "    accuracy                           0.98       114\n",
      "   macro avg       0.98      0.98      0.98       114\n",
      "weighted avg       0.98      0.98      0.98       114\n",
      "\n"
     ]
    }
   ],
   "source": [
    "print(\"\\n\", classification_report(y_test, y_pred_lr))"
   ]
  },
  {
   "cell_type": "raw",
   "id": "73793a77-995b-4aca-bc68-c76a3f6f4187",
   "metadata": {},
   "source": [
    "Logistic Regression is a linear classifier that estimates the probability of a binary outcome using the logistic function. Suitable for this dataset because it is computationally efficient and performs well when features are linearly separable."
   ]
  },
  {
   "cell_type": "markdown",
   "id": "d354cce1-84fe-4e8b-8917-94008ded8dcf",
   "metadata": {},
   "source": [
    "*Decision Tree Classifier*"
   ]
  },
  {
   "cell_type": "code",
   "execution_count": 59,
   "id": "8aaa3531-9f41-4239-b438-2d14b382fb5f",
   "metadata": {},
   "outputs": [
    {
     "name": "stdout",
     "output_type": "stream",
     "text": [
      "Decision Tree Accuracy: 0.9122807017543859\n"
     ]
    }
   ],
   "source": [
    "from sklearn.tree import DecisionTreeClassifier\n",
    "\n",
    "# Decision Tree\n",
    "dt_model = DecisionTreeClassifier(random_state=42)\n",
    "dt_model.fit(X_train, y_train)\n",
    "y_pred_dt = dt_model.predict(X_test)\n",
    "\n",
    "print(\"Decision Tree Accuracy:\", accuracy_score(y_test, y_pred_dt))\n",
    "\n"
   ]
  },
  {
   "cell_type": "code",
   "execution_count": 61,
   "id": "e5eb937b-8025-4f75-9a77-f53af4d88f82",
   "metadata": {},
   "outputs": [
    {
     "name": "stdout",
     "output_type": "stream",
     "text": [
      "\n",
      "               precision    recall  f1-score   support\n",
      "\n",
      "           0       0.85      0.93      0.89        42\n",
      "           1       0.96      0.90      0.93        72\n",
      "\n",
      "    accuracy                           0.91       114\n",
      "   macro avg       0.90      0.92      0.91       114\n",
      "weighted avg       0.92      0.91      0.91       114\n",
      "\n"
     ]
    }
   ],
   "source": [
    "print(\"\\n\", classification_report(y_test, y_pred_dt))"
   ]
  },
  {
   "cell_type": "raw",
   "id": "476089f4-e767-4804-8712-469425c7563f",
   "metadata": {},
   "source": [
    "Decision Trees split the data recursively based on feature thresholds, forming a tree structure. They are suitable for capturing non-linear patterns in the dataset."
   ]
  },
  {
   "cell_type": "markdown",
   "id": "7ba867a1-2c53-4f4c-a0f6-80dcb504ee4f",
   "metadata": {},
   "source": [
    "*Random Forest Classifier*"
   ]
  },
  {
   "cell_type": "code",
   "execution_count": 55,
   "id": "04c7f0a2-19d6-4841-857b-82ec052a405d",
   "metadata": {},
   "outputs": [
    {
     "name": "stdout",
     "output_type": "stream",
     "text": [
      "Random Forest Accuracy: 0.956140350877193\n"
     ]
    }
   ],
   "source": [
    "from sklearn.ensemble import RandomForestClassifier\n",
    "\n",
    "# Random Forest\n",
    "rf_model = RandomForestClassifier(random_state=42)\n",
    "rf_model.fit(X_train, y_train)\n",
    "y_pred_rf = rf_model.predict(X_test)\n",
    "\n",
    "print(\"Random Forest Accuracy:\", accuracy_score(y_test, y_pred_rf))\n",
    "\n"
   ]
  },
  {
   "cell_type": "code",
   "execution_count": 57,
   "id": "a90f042a-cbce-4e7b-af53-f0a561cd9e3e",
   "metadata": {},
   "outputs": [
    {
     "name": "stdout",
     "output_type": "stream",
     "text": [
      "\n",
      "               precision    recall  f1-score   support\n",
      "\n",
      "           0       0.95      0.93      0.94        42\n",
      "           1       0.96      0.97      0.97        72\n",
      "\n",
      "    accuracy                           0.96       114\n",
      "   macro avg       0.96      0.95      0.95       114\n",
      "weighted avg       0.96      0.96      0.96       114\n",
      "\n"
     ]
    }
   ],
   "source": [
    "print(\"\\n\", classification_report(y_test, y_pred_rf))"
   ]
  },
  {
   "cell_type": "raw",
   "id": "8c291747-165c-4e31-85ca-1969492abdeb",
   "metadata": {},
   "source": [
    "Random Forest is an ensemble method that builds multiple decision trees and averages their predictions. It handles overfitting well and is robust to noisy data."
   ]
  },
  {
   "cell_type": "markdown",
   "id": "51b5e564-190d-4dbd-9ad0-688ceff7813a",
   "metadata": {},
   "source": [
    "*Support Vector Machine*"
   ]
  },
  {
   "cell_type": "code",
   "execution_count": 51,
   "id": "f2a04477-26c3-4b3d-840b-be5d1749aa73",
   "metadata": {},
   "outputs": [
    {
     "name": "stdout",
     "output_type": "stream",
     "text": [
      "SVM Accuracy: 0.9736842105263158\n"
     ]
    }
   ],
   "source": [
    "from sklearn.svm import SVC\n",
    "\n",
    "# Support Vector Machine\n",
    "svm_model = SVC(kernel='linear', random_state=42)\n",
    "svm_model.fit(X_train, y_train)\n",
    "y_pred_svm = svm_model.predict(X_test)\n",
    "\n",
    "print(\"SVM Accuracy:\", accuracy_score(y_test, y_pred_svm))\n",
    "\n"
   ]
  },
  {
   "cell_type": "code",
   "execution_count": 53,
   "id": "bc4f8167-6211-4e49-9ebe-1e2815e2dd21",
   "metadata": {},
   "outputs": [
    {
     "name": "stdout",
     "output_type": "stream",
     "text": [
      "\n",
      "               precision    recall  f1-score   support\n",
      "\n",
      "           0       0.95      0.98      0.96        42\n",
      "           1       0.99      0.97      0.98        72\n",
      "\n",
      "    accuracy                           0.97       114\n",
      "   macro avg       0.97      0.97      0.97       114\n",
      "weighted avg       0.97      0.97      0.97       114\n",
      "\n"
     ]
    }
   ],
   "source": [
    "print(\"\\n\", classification_report(y_test, y_pred_svm))"
   ]
  },
  {
   "cell_type": "raw",
   "id": "d8e932da-3af8-4b0b-9164-879fc25c8b89",
   "metadata": {},
   "source": [
    "SVM finds the optimal hyperplane that maximizes the margin between classes. It is suitable for this dataset due to its effectiveness in handling high-dimensional data."
   ]
  },
  {
   "cell_type": "markdown",
   "id": "acc10a24-d398-44c2-bbbe-271aec1afff9",
   "metadata": {},
   "source": [
    "*k-Nearest Neighbors*"
   ]
  },
  {
   "cell_type": "code",
   "execution_count": 49,
   "id": "ca8ae579-068c-4681-af07-0e18def10e39",
   "metadata": {},
   "outputs": [
    {
     "name": "stdout",
     "output_type": "stream",
     "text": [
      "k-NN Accuracy: 0.9649122807017544\n"
     ]
    }
   ],
   "source": [
    "from sklearn.neighbors import KNeighborsClassifier\n",
    "\n",
    "# k-Nearest Neighbors\n",
    "knn_model = KNeighborsClassifier(n_neighbors=5)\n",
    "knn_model.fit(X_train, y_train)\n",
    "y_pred_knn = knn_model.predict(X_test)\n",
    "\n",
    "print(\"k-NN Accuracy:\", accuracy_score(y_test, y_pred_knn))\n",
    "\n"
   ]
  },
  {
   "cell_type": "code",
   "execution_count": 47,
   "id": "b4047e96-f46e-447e-bbf5-afee2e21dd68",
   "metadata": {},
   "outputs": [
    {
     "name": "stdout",
     "output_type": "stream",
     "text": [
      "\n",
      "               precision    recall  f1-score   support\n",
      "\n",
      "           0       0.97      0.93      0.95        42\n",
      "           1       0.96      0.99      0.97        72\n",
      "\n",
      "    accuracy                           0.96       114\n",
      "   macro avg       0.97      0.96      0.96       114\n",
      "weighted avg       0.97      0.96      0.96       114\n",
      "\n"
     ]
    }
   ],
   "source": [
    "print(\"\\n\", classification_report(y_test, y_pred_knn))"
   ]
  },
  {
   "cell_type": "raw",
   "id": "e65e42f1-e36e-466e-9df8-2a5f128d7cb8",
   "metadata": {},
   "source": [
    "k-NN predicts the class of a sample based on the majority class of its k-nearest neighbors. It is suitable for datasets with balanced classes and well-scaled features."
   ]
  },
  {
   "cell_type": "markdown",
   "id": "fb28abee-7d53-4799-a592-91565bb04f94",
   "metadata": {},
   "source": [
    "**3. Model Comparison**"
   ]
  },
  {
   "cell_type": "code",
   "execution_count": 39,
   "id": "a528533d-6449-46cb-9c4f-4157f46f9295",
   "metadata": {},
   "outputs": [
    {
     "name": "stdout",
     "output_type": "stream",
     "text": [
      "                 Model  Accuracy\n",
      "0  Logistic Regression  0.982456\n",
      "3                  SVM  0.973684\n",
      "4                 k-NN  0.964912\n",
      "2        Random Forest  0.956140\n",
      "1        Decision Tree  0.912281\n"
     ]
    }
   ],
   "source": [
    "# Compare model performance\n",
    "results = pd.DataFrame({\n",
    "    \"Model\": [\"Logistic Regression\", \"Decision Tree\", \"Random Forest\", \"SVM\", \"k-NN\"],\n",
    "    \"Accuracy\": [\n",
    "        accuracy_score(y_test, y_pred_lr),\n",
    "        accuracy_score(y_test, y_pred_dt),\n",
    "        accuracy_score(y_test, y_pred_rf),\n",
    "        accuracy_score(y_test, y_pred_svm),\n",
    "        accuracy_score(y_test, y_pred_knn)\n",
    "    ]\n",
    "})\n",
    "\n",
    "print(results.sort_values(by=\"Accuracy\", ascending=False))\n",
    "\n"
   ]
  },
  {
   "cell_type": "raw",
   "id": "59e28ea7-2d0f-4000-acb4-ad10234eb459",
   "metadata": {},
   "source": [
    "Accuracy is used as the primary metric, supported by the classification report to analyze precision, recall, and F1-score."
   ]
  },
  {
   "cell_type": "code",
   "execution_count": 45,
   "id": "071975b6-4098-4257-95f7-c6cdc1bfcd15",
   "metadata": {},
   "outputs": [
    {
     "name": "stdout",
     "output_type": "stream",
     "text": [
      "Best Model:\n",
      " Model       Logistic Regression\n",
      "Accuracy               0.982456\n",
      "Name: 0, dtype: object\n"
     ]
    }
   ],
   "source": [
    "# Identify best and worst models\n",
    "best_model = results.loc[results[\"Accuracy\"].idxmax()]\n",
    "worst_model = results.loc[results[\"Accuracy\"].idxmin()]\n",
    "\n",
    "print(\"Best Model:\\n\", best_model)\n",
    "\n"
   ]
  },
  {
   "cell_type": "raw",
   "id": "fb2e797a-a7a8-4cd4-8caa-6610830efff0",
   "metadata": {},
   "source": [
    "Logistic Regression has the highest accuracy at 98.25%, making it the best-performing model for this dataset.\n",
    "This suggests the features are likely linearly separable, making Logistic Regression an excellent fit."
   ]
  },
  {
   "cell_type": "code",
   "execution_count": 43,
   "id": "a9b0e7d6-4130-4edc-a792-94d39d70a29d",
   "metadata": {},
   "outputs": [
    {
     "name": "stdout",
     "output_type": "stream",
     "text": [
      "Worst Model:\n",
      " Model       Decision Tree\n",
      "Accuracy         0.912281\n",
      "Name: 1, dtype: object\n"
     ]
    }
   ],
   "source": [
    "print(\"Worst Model:\\n\", worst_model)"
   ]
  },
  {
   "cell_type": "raw",
   "id": "793fbaa5-0cdb-40fa-86a7-c6696a22ba34",
   "metadata": {},
   "source": [
    "Decision Tree has the lowest accuracy at 91.23%, likely due to its tendency to overfit, especially in datasets with noise or without significant feature engineering."
   ]
  },
  {
   "cell_type": "code",
   "execution_count": 1,
   "id": "1b7660cd-e33b-4a33-8625-4c9fb062cc96",
   "metadata": {},
   "outputs": [
    {
     "data": {
      "image/png": "[encoded data removed]",
      "text/plain": [
       "<Figure size 800x500 with 1 Axes>"
      ]
     },
     "metadata": {},
     "output_type": "display_data"
    }
   ],
   "source": [
    "import matplotlib.pyplot as plt\n",
    "\n",
    "models = [\"Logistic Regression\", \"SVM\", \"k-NN\", \"Random Forest\", \"Decision Tree\"]\n",
    "accuracies = [0.982456, 0.973684, 0.964912, 0.956140, 0.912281]\n",
    "\n",
    "plt.figure(figsize=(8, 5))\n",
    "plt.barh(models, accuracies, color='skyblue')\n",
    "plt.xlabel(\"Accuracy\")\n",
    "plt.title(\"Model Accuracy Comparison\")\n",
    "plt.show()\n"
   ]
  },
  {
   "cell_type": "code",
   "execution_count": null,
   "id": "42681400-be39-473f-865a-ae8beabb66dd",
   "metadata": {},
   "outputs": [],
   "source": []
  }
 ],
 "metadata": {
  "kernelspec": {
   "display_name": "Python 3 (ipykernel)",
   "language": "python",
   "name": "python3"
  },
  "language_info": {
   "codemirror_mode": {
    "name": "ipython",
    "version": 3
   },
   "file_extension": ".py",
   "mimetype": "text/x-python",
   "name": "python",
   "nbconvert_exporter": "python",
   "pygments_lexer": "ipython3",
   "version": "3.12.4"
  }
 },
 "nbformat": 4,
 "nbformat_minor": 5
}
